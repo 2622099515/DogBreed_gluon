{
 "cells": [
  {
   "cell_type": "markdown",
   "metadata": {},
   "source": [
    "# 载入必要的库"
   ]
  },
  {
   "cell_type": "code",
   "execution_count": 1,
   "metadata": {
    "collapsed": true
   },
   "outputs": [],
   "source": [
    "import mxnet as mx\n",
    "from mxnet import autograd\n",
    "from mxnet import gluon\n",
    "from mxnet import image\n",
    "from mxnet import init\n",
    "from mxnet import nd\n",
    "from mxnet.gluon import nn\n",
    "from mxnet.gluon.data import vision\n",
    "from mxnet.gluon.model_zoo import vision as models\n",
    "import numpy as np\n",
    "import pandas as pd\n",
    "from tqdm import tqdm\n",
    "import cv2\n",
    "import h5py\n",
    "import os\n",
    "\n",
    "import matplotlib.pyplot as plt\n",
    "\n",
    "%matplotlib inline\n",
    "%config InlineBackend.figure_format = 'retina'\n",
    "\n",
    "ctx = [mx.gpu(i) for i in range(4)] # 如果是单卡，需要修改这里\n",
    "\n",
    "df = pd.read_csv('sample_submission.csv')\n",
    "synset = list(df.columns[1:])"
   ]
  },
  {
   "cell_type": "markdown",
   "metadata": {},
   "source": [
    "# 载入数据集"
   ]
  },
  {
   "cell_type": "code",
   "execution_count": 2,
   "metadata": {},
   "outputs": [
    {
     "name": "stderr",
     "output_type": "stream",
     "text": [
      "100%|██████████| 20580/20580 [03:25<00:00, 100.09it/s]\n"
     ]
    }
   ],
   "source": [
    "from glob import glob\n",
    "\n",
    "n = len(glob('Images/*/*.jpg'))\n",
    "X_224 = nd.zeros((n, 3, 224, 224))\n",
    "X_299 = nd.zeros((n, 3, 299, 299))\n",
    "y = nd.zeros((n,))\n",
    "\n",
    "mean = np.array([0.485, 0.456, 0.406])\n",
    "std = np.array([0.229, 0.224, 0.225])\n",
    "\n",
    "for i, file_name in tqdm(enumerate(glob('Images/*/*.jpg')), total=n):\n",
    "    img = cv2.imread(file_name)\n",
    "    img_224 = ((cv2.resize(img, (224, 224))[:,:,::-1] / 255.0 - mean) / std).transpose((2, 0, 1))\n",
    "    img_299 = ((cv2.resize(img, (299, 299))[:,:,::-1] / 255.0 - mean) / std).transpose((2, 0, 1))\n",
    "    \n",
    "    X_224[i] = nd.array(img_224)\n",
    "    X_299[i] = nd.array(img_299)\n",
    "    \n",
    "    y[i] = synset.index(file_name.split('/')[1][10:].lower())\n",
    "    \n",
    "    nd.waitall()"
   ]
  },
  {
   "cell_type": "markdown",
   "metadata": {},
   "source": [
    "# 定义得到预训练模型特征的函数"
   ]
  },
  {
   "cell_type": "code",
   "execution_count": 3,
   "metadata": {
    "collapsed": true
   },
   "outputs": [],
   "source": [
    "def get_features(model_name, data_iter):\n",
    "    net = models.get_model(model_name, pretrained=True, ctx=ctx)\n",
    "    features = []\n",
    "    for data in tqdm(data_iter):\n",
    "        # 并行预测数据，如果是单卡，需要修改这里\n",
    "        for data_slice in gluon.utils.split_and_load(data, ctx, even_split=False):\n",
    "            feature = net.features(data_slice)\n",
    "            feature = gluon.nn.Flatten()(feature)\n",
    "            features.append(feature.as_in_context(mx.cpu()))\n",
    "        nd.waitall()\n",
    "\n",
    "    features = nd.concat(*features, dim=0)\n",
    "    return features"
   ]
  },
  {
   "cell_type": "markdown",
   "metadata": {},
   "source": [
    "# 计算几个预训练模型输出的特征并拼接起来"
   ]
  },
  {
   "cell_type": "code",
   "execution_count": 4,
   "metadata": {
    "collapsed": true
   },
   "outputs": [],
   "source": [
    "batch_size = 128\n",
    "\n",
    "data_iter_224 = gluon.data.DataLoader(gluon.data.ArrayDataset(X_224), batch_size=batch_size)\n",
    "data_iter_299 = gluon.data.DataLoader(gluon.data.ArrayDataset(X_299), batch_size=batch_size)"
   ]
  },
  {
   "cell_type": "code",
   "execution_count": 6,
   "metadata": {},
   "outputs": [
    {
     "name": "stderr",
     "output_type": "stream",
     "text": [
      "100%|██████████| 161/161 [00:26<00:00,  1.84it/s]\n",
      "100%|██████████| 161/161 [00:42<00:00,  2.14it/s]\n"
     ]
    }
   ],
   "source": [
    "model_names = ['inceptionv3', 'resnet152_v1']\n",
    "\n",
    "features = []\n",
    "for model_name in model_names:\n",
    "    if model_name == 'inceptionv3':\n",
    "        features.append(get_features(model_name, data_iter_299))\n",
    "    else:\n",
    "        features.append(get_features(model_name, data_iter_224))"
   ]
  },
  {
   "cell_type": "code",
   "execution_count": 7,
   "metadata": {
    "collapsed": true
   },
   "outputs": [],
   "source": [
    "features = nd.concat(*features, dim=1)\n",
    "data_iter_train = gluon.data.DataLoader(gluon.data.ArrayDataset(features, y), batch_size, shuffle=True)"
   ]
  },
  {
   "cell_type": "markdown",
   "metadata": {},
   "source": [
    "# 定义一些函数"
   ]
  },
  {
   "cell_type": "code",
   "execution_count": 49,
   "metadata": {
    "collapsed": true
   },
   "outputs": [],
   "source": [
    "def build_model():\n",
    "    net = nn.Sequential()\n",
    "    with net.name_scope():\n",
    "        net.add(nn.BatchNorm())\n",
    "        net.add(nn.Dense(1024))\n",
    "        net.add(nn.BatchNorm())\n",
    "        net.add(nn.Activation('relu'))\n",
    "        net.add(nn.Dropout(0.5))\n",
    "        net.add(nn.Dense(120))\n",
    "\n",
    "    net.initialize(ctx=ctx)\n",
    "    return net"
   ]
  },
  {
   "cell_type": "code",
   "execution_count": 50,
   "metadata": {},
   "outputs": [],
   "source": [
    "ctx = mx.gpu() # 训练的时候为了简化计算，使用了单 GPU\n",
    "softmax_cross_entropy = gluon.loss.SoftmaxCrossEntropyLoss()\n",
    "\n",
    "def accuracy(output, labels):\n",
    "    return nd.mean(nd.argmax(output, axis=1) == labels).asscalar()\n",
    "\n",
    "def evaluate(net, data_iter):\n",
    "    loss, acc, n = 0., 0., 0.\n",
    "    steps = len(data_iter)\n",
    "    for data, label in data_iter:\n",
    "        data, label = data.as_in_context(ctx), label.as_in_context(ctx)\n",
    "        output = net(data)\n",
    "        acc += accuracy(output, label)\n",
    "        loss += nd.mean(softmax_cross_entropy(output, label)).asscalar()\n",
    "    return loss/steps, acc/steps"
   ]
  },
  {
   "cell_type": "markdown",
   "metadata": {},
   "source": [
    "# 训练模型"
   ]
  },
  {
   "cell_type": "code",
   "execution_count": 56,
   "metadata": {},
   "outputs": [
    {
     "name": "stdout",
     "output_type": "stream",
     "text": [
      "Epoch 1. loss: 0.6151, acc: 83.53%\n",
      "Epoch 2. loss: 0.2590, acc: 91.72%\n",
      "Epoch 3. loss: 0.1851, acc: 94.00%\n",
      "Epoch 4. loss: 0.1468, acc: 94.97%\n",
      "Epoch 5. loss: 0.1244, acc: 95.73%\n",
      "Epoch 6. loss: 0.1072, acc: 96.34%\n",
      "Epoch 7. loss: 0.0825, acc: 97.26%\n",
      "Epoch 8. loss: 0.0796, acc: 97.40%\n",
      "Epoch 9. loss: 0.0700, acc: 97.62%\n",
      "Epoch 10. loss: 0.0561, acc: 98.15%\n",
      "Epoch 11. loss: 0.0383, acc: 98.83%\n",
      "Epoch 12. loss: 0.0340, acc: 98.88%\n",
      "Epoch 13. loss: 0.0297, acc: 99.17%\n",
      "Epoch 14. loss: 0.0247, acc: 99.33%\n",
      "Epoch 15. loss: 0.0253, acc: 99.29%\n",
      "Epoch 16. loss: 0.0229, acc: 99.40%\n",
      "Epoch 17. loss: 0.0247, acc: 99.28%\n",
      "Epoch 18. loss: 0.0226, acc: 99.43%\n",
      "Epoch 19. loss: 0.0212, acc: 99.47%\n",
      "Epoch 20. loss: 0.0164, acc: 99.56%\n",
      "Epoch 21. loss: 0.0167, acc: 99.57%\n",
      "Epoch 22. loss: 0.0153, acc: 99.62%\n",
      "Epoch 23. loss: 0.0125, acc: 99.70%\n",
      "Epoch 24. loss: 0.0135, acc: 99.61%\n",
      "Epoch 25. loss: 0.0128, acc: 99.69%\n",
      "Epoch 26. loss: 0.0131, acc: 99.65%\n",
      "Epoch 27. loss: 0.0118, acc: 99.73%\n",
      "Epoch 28. loss: 0.0137, acc: 99.66%\n",
      "Epoch 29. loss: 0.0120, acc: 99.67%\n",
      "Epoch 30. loss: 0.0101, acc: 99.74%\n",
      "Epoch 31. loss: 0.0103, acc: 99.72%\n",
      "Epoch 32. loss: 0.0088, acc: 99.74%\n",
      "Epoch 33. loss: 0.0106, acc: 99.71%\n",
      "Epoch 34. loss: 0.0091, acc: 99.74%\n",
      "Epoch 35. loss: 0.0113, acc: 99.66%\n",
      "Epoch 36. loss: 0.0098, acc: 99.74%\n",
      "Epoch 37. loss: 0.0090, acc: 99.75%\n",
      "Epoch 38. loss: 0.0073, acc: 99.76%\n",
      "Epoch 39. loss: 0.0078, acc: 99.74%\n",
      "Epoch 40. loss: 0.0086, acc: 99.74%\n",
      "Epoch 41. loss: 0.0081, acc: 99.78%\n",
      "Epoch 42. loss: 0.0075, acc: 99.77%\n",
      "Epoch 43. loss: 0.0081, acc: 99.74%\n",
      "Epoch 44. loss: 0.0074, acc: 99.77%\n",
      "Epoch 45. loss: 0.0078, acc: 99.76%\n",
      "Epoch 46. loss: 0.0079, acc: 99.74%\n",
      "Epoch 47. loss: 0.0071, acc: 99.78%\n",
      "Epoch 48. loss: 0.0063, acc: 99.80%\n",
      "Epoch 49. loss: 0.0070, acc: 99.78%\n",
      "Epoch 50. loss: 0.0060, acc: 99.82%\n",
      "Epoch 51. loss: 0.0063, acc: 99.78%\n",
      "Epoch 52. loss: 0.0076, acc: 99.71%\n",
      "Epoch 53. loss: 0.0061, acc: 99.78%\n",
      "Epoch 54. loss: 0.0064, acc: 99.78%\n",
      "Epoch 55. loss: 0.0060, acc: 99.79%\n",
      "Epoch 56. loss: 0.0061, acc: 99.77%\n",
      "Epoch 57. loss: 0.0069, acc: 99.76%\n",
      "Epoch 58. loss: 0.0064, acc: 99.79%\n",
      "Epoch 59. loss: 0.0064, acc: 99.80%\n",
      "Epoch 60. loss: 0.0067, acc: 99.74%\n",
      "Epoch 61. loss: 0.0053, acc: 99.82%\n",
      "Epoch 62. loss: 0.0052, acc: 99.83%\n",
      "Epoch 63. loss: 0.0064, acc: 99.80%\n",
      "Epoch 64. loss: 0.0060, acc: 99.77%\n",
      "Epoch 65. loss: 0.0057, acc: 99.81%\n",
      "Epoch 66. loss: 0.0053, acc: 99.85%\n",
      "Epoch 67. loss: 0.0057, acc: 99.80%\n",
      "Epoch 68. loss: 0.0058, acc: 99.78%\n",
      "Epoch 69. loss: 0.0053, acc: 99.81%\n",
      "Epoch 70. loss: 0.0053, acc: 99.82%\n",
      "Epoch 71. loss: 0.0058, acc: 99.82%\n",
      "Epoch 72. loss: 0.0058, acc: 99.80%\n",
      "Epoch 73. loss: 0.0053, acc: 99.79%\n",
      "Epoch 74. loss: 0.0064, acc: 99.73%\n",
      "Epoch 75. loss: 0.0055, acc: 99.81%\n",
      "Epoch 76. loss: 0.0059, acc: 99.81%\n",
      "Epoch 77. loss: 0.0053, acc: 99.82%\n",
      "Epoch 78. loss: 0.0056, acc: 99.82%\n",
      "Epoch 79. loss: 0.0060, acc: 99.82%\n",
      "Epoch 80. loss: 0.0044, acc: 99.85%\n",
      "Epoch 81. loss: 0.0057, acc: 99.80%\n",
      "Epoch 82. loss: 0.0061, acc: 99.79%\n",
      "Epoch 83. loss: 0.0054, acc: 99.80%\n",
      "Epoch 84. loss: 0.0049, acc: 99.82%\n",
      "Epoch 85. loss: 0.0050, acc: 99.82%\n",
      "Epoch 86. loss: 0.0057, acc: 99.81%\n",
      "Epoch 87. loss: 0.0056, acc: 99.80%\n",
      "Epoch 88. loss: 0.0054, acc: 99.83%\n",
      "Epoch 89. loss: 0.0052, acc: 99.82%\n",
      "Epoch 90. loss: 0.0056, acc: 99.81%\n",
      "Epoch 91. loss: 0.0049, acc: 99.83%\n",
      "Epoch 92. loss: 0.0054, acc: 99.84%\n",
      "Epoch 93. loss: 0.0056, acc: 99.78%\n",
      "Epoch 94. loss: 0.0047, acc: 99.84%\n",
      "Epoch 95. loss: 0.0051, acc: 99.80%\n",
      "Epoch 96. loss: 0.0053, acc: 99.81%\n",
      "Epoch 97. loss: 0.0054, acc: 99.82%\n",
      "Epoch 98. loss: 0.0065, acc: 99.74%\n",
      "Epoch 99. loss: 0.0053, acc: 99.79%\n",
      "Epoch 100. loss: 0.0047, acc: 99.84%\n"
     ]
    }
   ],
   "source": [
    "net = build_model()\n",
    "\n",
    "epochs = 100\n",
    "batch_size = 128\n",
    "lr_sch = mx.lr_scheduler.FactorScheduler(step=1500, factor=0.5)\n",
    "trainer = gluon.Trainer(net.collect_params(), 'adam', \n",
    "                        {'learning_rate': 1e-3, 'lr_scheduler': lr_sch})\n",
    "\n",
    "for epoch in range(epochs):\n",
    "    train_loss = 0.\n",
    "    train_acc = 0.\n",
    "    steps = len(data_iter_train)\n",
    "    for data, label in data_iter_train:\n",
    "        data, label = data.as_in_context(ctx), label.as_in_context(ctx)\n",
    "        with autograd.record():\n",
    "            output = net(data)\n",
    "            loss = softmax_cross_entropy(output, label)\n",
    "\n",
    "        loss.backward()\n",
    "        trainer.step(batch_size)\n",
    "\n",
    "        train_loss += nd.mean(loss).asscalar()\n",
    "        train_acc += accuracy(output, label)\n",
    "\n",
    "    print(\"Epoch %d. loss: %.4f, acc: %.2f%%\" % (epoch+1, train_loss/steps, train_acc/steps*100))"
   ]
  },
  {
   "cell_type": "markdown",
   "metadata": {},
   "source": [
    "# 计算在训练集上的 loss 和准确率"
   ]
  },
  {
   "cell_type": "code",
   "execution_count": 57,
   "metadata": {},
   "outputs": [
    {
     "data": {
      "text/plain": [
       "(0.0029511520437865884, 0.99819099384805432)"
      ]
     },
     "execution_count": 57,
     "metadata": {},
     "output_type": "execute_result"
    }
   ],
   "source": [
    "evaluate(net, data_iter_train)"
   ]
  },
  {
   "cell_type": "markdown",
   "metadata": {},
   "source": [
    "# 读取之前导出的测试集特征"
   ]
  },
  {
   "cell_type": "code",
   "execution_count": 45,
   "metadata": {
    "collapsed": true
   },
   "outputs": [],
   "source": [
    "features_test = [nd.load('features_test_%s.nd' % model_name)[0] for model_name in model_names]\n",
    "features_test = nd.concat(*features_test, dim=1)"
   ]
  },
  {
   "cell_type": "markdown",
   "metadata": {},
   "source": [
    "# 预测并输出到 csv 文件"
   ]
  },
  {
   "cell_type": "code",
   "execution_count": 58,
   "metadata": {
    "collapsed": true
   },
   "outputs": [],
   "source": [
    "output = nd.softmax(net(features_test.as_in_context(ctx))).asnumpy()"
   ]
  },
  {
   "cell_type": "code",
   "execution_count": 59,
   "metadata": {
    "collapsed": true
   },
   "outputs": [],
   "source": [
    "df_pred = pd.read_csv('sample_submission.csv')\n",
    "\n",
    "for i, c in enumerate(df_pred.columns[1:]):\n",
    "    df_pred[c] = output[:,i]\n",
    "\n",
    "df_pred.to_csv('pred.csv', index=None)"
   ]
  },
  {
   "cell_type": "markdown",
   "metadata": {},
   "source": [
    "# 和之前的提交进行对比，确认没有错位"
   ]
  },
  {
   "cell_type": "code",
   "execution_count": 60,
   "metadata": {},
   "outputs": [
    {
     "data": {
      "text/plain": [
       "[(61, 61),\n",
       " (94, 94),\n",
       " (40, 40),\n",
       " (88, 88),\n",
       " (70, 100),\n",
       " (76, 105),\n",
       " (6, 6),\n",
       " (94, 94),\n",
       " (59, 59),\n",
       " (107, 107)]"
      ]
     },
     "execution_count": 60,
     "metadata": {},
     "output_type": "execute_result"
    }
   ],
   "source": [
    "zip(np.argmax(pd.read_csv('pred_0.28.csv').values[:,1:], axis=-1), np.argmax(df_pred.values[:,1:], axis=-1))[:10]"
   ]
  },
  {
   "cell_type": "markdown",
   "metadata": {},
   "source": [
    "# 压缩为 zip 文件"
   ]
  },
  {
   "cell_type": "code",
   "execution_count": 62,
   "metadata": {},
   "outputs": [
    {
     "name": "stdout",
     "output_type": "stream",
     "text": [
      "rm: 无法删除'pred.zip': 没有那个文件或目录\n",
      "  adding: pred.csv (deflated 57%)\n"
     ]
    }
   ],
   "source": [
    "!rm pred.zip\n",
    "!zip pred.zip pred.csv"
   ]
  },
  {
   "cell_type": "code",
   "execution_count": null,
   "metadata": {
    "collapsed": true
   },
   "outputs": [],
   "source": []
  }
 ],
 "metadata": {
  "kernelspec": {
   "display_name": "Python 2",
   "language": "python",
   "name": "python2"
  },
  "language_info": {
   "codemirror_mode": {
    "name": "ipython",
    "version": 2
   },
   "file_extension": ".py",
   "mimetype": "text/x-python",
   "name": "python",
   "nbconvert_exporter": "python",
   "pygments_lexer": "ipython2",
   "version": "2.7.12"
  }
 },
 "nbformat": 4,
 "nbformat_minor": 2
}
