{
 "cells": [
  {
   "cell_type": "markdown",
   "metadata": {},
   "source": [
    "# 导入必要的库"
   ]
  },
  {
   "cell_type": "code",
   "execution_count": 1,
   "metadata": {
    "collapsed": true
   },
   "outputs": [],
   "source": [
    "import mxnet as mx\n",
    "from mxnet import autograd\n",
    "from mxnet import gluon\n",
    "from mxnet import image\n",
    "from mxnet import init\n",
    "from mxnet import nd\n",
    "from mxnet.gluon.data import vision\n",
    "from mxnet.gluon.model_zoo import vision as models\n",
    "import numpy as np\n",
    "import pandas as pd\n",
    "from tqdm import tqdm\n",
    "import cv2\n",
    "import h5py\n",
    "import os\n",
    "\n",
    "import matplotlib.pyplot as plt\n",
    "\n",
    "%matplotlib inline\n",
    "%config InlineBackend.figure_format = 'retina'\n",
    "\n",
    "ctx = [mx.gpu(i) for i in range(4)]"
   ]
  },
  {
   "cell_type": "markdown",
   "metadata": {},
   "source": [
    "* https://mxnet.incubator.apache.org/api/python/image/image.html\n",
    "* http://zh.gluon.ai/chapter_computer-vision/fine-tuning.html\n",
    "* http://zh.gluon.ai/chapter_computer-vision/kaggle-gluon-dog.html"
   ]
  },
  {
   "cell_type": "markdown",
   "metadata": {},
   "source": [
    "# 载入训练集"
   ]
  },
  {
   "cell_type": "code",
   "execution_count": 2,
   "metadata": {},
   "outputs": [
    {
     "name": "stderr",
     "output_type": "stream",
     "text": [
      "100%|██████████| 10222/10222 [01:43<00:00, 98.36it/s] \n"
     ]
    }
   ],
   "source": [
    "df = pd.read_csv('labels.csv')\n",
    "synset = sorted(set(df['breed']))\n",
    "n = len(df)\n",
    "\n",
    "X_224 = nd.zeros((n, 3, 224, 224))\n",
    "X_299 = nd.zeros((n, 3, 299, 299))\n",
    "y = nd.zeros((n,))\n",
    "\n",
    "mean = np.array([0.485, 0.456, 0.406])\n",
    "std = np.array([0.229, 0.224, 0.225])\n",
    "\n",
    "for i, (fname, breed) in tqdm(df.iterrows(), total=n):\n",
    "    img = cv2.imread('train/%s.jpg' % fname)\n",
    "    img_224 = ((cv2.resize(img, (224, 224))[:,:,::-1] / 255.0 - mean) / std).transpose((2, 0, 1))\n",
    "    img_299 = ((cv2.resize(img, (299, 299))[:,:,::-1] / 255.0 - mean) / std).transpose((2, 0, 1))\n",
    "    \n",
    "    X_224[i] = nd.array(img_224)\n",
    "    X_299[i] = nd.array(img_299)\n",
    "    \n",
    "    y[i] = synset.index(breed)\n",
    "    \n",
    "    nd.waitall()"
   ]
  },
  {
   "cell_type": "code",
   "execution_count": 3,
   "metadata": {
    "collapsed": true
   },
   "outputs": [],
   "source": [
    "nd.save('train.nd', [X_224, X_299, y])\n",
    "nd.save('labels.nd', y)"
   ]
  },
  {
   "cell_type": "markdown",
   "metadata": {},
   "source": [
    "# 载入测试集"
   ]
  },
  {
   "cell_type": "code",
   "execution_count": 4,
   "metadata": {},
   "outputs": [
    {
     "name": "stderr",
     "output_type": "stream",
     "text": [
      "100%|██████████| 10357/10357 [02:13<00:00, 77.61it/s] \n"
     ]
    }
   ],
   "source": [
    "df_test = pd.read_csv('sample_submission.csv')\n",
    "n_test = len(df_test)\n",
    "\n",
    "X_224_test = nd.zeros((n_test, 3, 224, 224))\n",
    "X_299_test = nd.zeros((n_test, 3, 299, 299))\n",
    "\n",
    "for i, fname in tqdm(enumerate(df_test['id']), total=n_test):\n",
    "    img = cv2.imread('test/%s.jpg' % fname)\n",
    "    img_224 = ((cv2.resize(img, (224, 224))[:,:,::-1] / 255.0 - mean) / std).transpose((2, 0, 1))\n",
    "    img_299 = ((cv2.resize(img, (299, 299))[:,:,::-1] / 255.0 - mean) / std).transpose((2, 0, 1))\n",
    "    \n",
    "    X_224_test[i] = nd.array(img_224)\n",
    "    X_299_test[i] = nd.array(img_299)\n",
    "    \n",
    "    nd.waitall()"
   ]
  },
  {
   "cell_type": "code",
   "execution_count": 5,
   "metadata": {
    "collapsed": true
   },
   "outputs": [],
   "source": [
    "nd.save('test.nd', [X_224_test, X_299_test])"
   ]
  },
  {
   "cell_type": "markdown",
   "metadata": {},
   "source": [
    "# 检查点\n",
    "\n",
    "若已经运行过上面的代码，可以直接从下面载入数据集。"
   ]
  },
  {
   "cell_type": "code",
   "execution_count": 2,
   "metadata": {},
   "outputs": [
    {
     "name": "stdout",
     "output_type": "stream",
     "text": [
      "CPU times: user 48 ms, sys: 29 s, total: 29 s\n",
      "Wall time: 37.4 s\n"
     ]
    }
   ],
   "source": [
    "%%time\n",
    "\n",
    "X_224, X_299, y = nd.load('train.nd')\n",
    "X_224_test, X_299_test = nd.load('test.nd')"
   ]
  },
  {
   "cell_type": "markdown",
   "metadata": {},
   "source": [
    "# 导出特征\n",
    "\n",
    "* https://mxnet.incubator.apache.org/versions/master/api/python/gluon/model_zoo.html"
   ]
  },
  {
   "cell_type": "code",
   "execution_count": 3,
   "metadata": {
    "collapsed": true
   },
   "outputs": [],
   "source": [
    "def save_features(model_name, data_train_iter, data_test_iter, ignore=False):\n",
    "    # 文件已存在\n",
    "    if os.path.exists('features_train_%s.nd' % model_name) and ignore:\n",
    "        if os.path.exists('features_test_%s.nd' % model_name):\n",
    "            return\n",
    "    \n",
    "    net = models.get_model(model_name, pretrained=True, ctx=ctx)\n",
    "    \n",
    "    for prefix, data_iter in zip(['train', 'test'], [data_train_iter, data_test_iter]):\n",
    "        features = []\n",
    "        for data in tqdm(data_iter):\n",
    "            # 并行预测数据\n",
    "            for data_slice in gluon.utils.split_and_load(data, ctx, even_split=False):\n",
    "                feature = net.features(data_slice)\n",
    "                if 'squeezenet' in model_name:\n",
    "                    feature = gluon.nn.GlobalAvgPool2D()(feature)\n",
    "                feature = gluon.nn.Flatten()(feature)\n",
    "                features.append(feature.as_in_context(mx.cpu()))\n",
    "            nd.waitall()\n",
    "        \n",
    "        features = nd.concat(*features, dim=0)\n",
    "        nd.save('features_%s_%s.nd' % (prefix, model_name), features)"
   ]
  },
  {
   "cell_type": "code",
   "execution_count": 4,
   "metadata": {
    "collapsed": true
   },
   "outputs": [],
   "source": [
    "batch_size = 128\n",
    "\n",
    "data_iter_224 = gluon.data.DataLoader(gluon.data.ArrayDataset(X_224), batch_size=batch_size)\n",
    "data_iter_299 = gluon.data.DataLoader(gluon.data.ArrayDataset(X_299), batch_size=batch_size)\n",
    "\n",
    "data_test_iter_224 = gluon.data.DataLoader(gluon.data.ArrayDataset(X_224_test), \n",
    "                                           batch_size=batch_size)\n",
    "data_test_iter_299 = gluon.data.DataLoader(gluon.data.ArrayDataset(X_299_test), \n",
    "                                           batch_size=batch_size)"
   ]
  },
  {
   "cell_type": "code",
   "execution_count": null,
   "metadata": {},
   "outputs": [
    {
     "name": "stdout",
     "output_type": "stream",
     "text": [
      "alexnet\n"
     ]
    },
    {
     "name": "stderr",
     "output_type": "stream",
     "text": [
      "100%|██████████| 80/80 [00:02<00:00, 26.87it/s]\n",
      "100%|██████████| 81/81 [00:02<00:00, 34.09it/s]\n"
     ]
    },
    {
     "name": "stdout",
     "output_type": "stream",
     "text": [
      "densenet121\n"
     ]
    },
    {
     "name": "stderr",
     "output_type": "stream",
     "text": [
      "100%|██████████| 80/80 [00:20<00:00,  1.28s/it]\n",
      "100%|██████████| 81/81 [00:15<00:00,  1.44it/s]\n"
     ]
    },
    {
     "name": "stdout",
     "output_type": "stream",
     "text": [
      "densenet161\n"
     ]
    },
    {
     "name": "stderr",
     "output_type": "stream",
     "text": [
      "100%|██████████| 80/80 [00:31<00:00,  2.24s/it]\n",
      "100%|██████████| 81/81 [00:25<00:00,  1.45s/it]\n"
     ]
    },
    {
     "name": "stdout",
     "output_type": "stream",
     "text": [
      "densenet169\n"
     ]
    },
    {
     "name": "stderr",
     "output_type": "stream",
     "text": [
      "100%|██████████| 80/80 [00:19<00:00,  1.69it/s]\n",
      "100%|██████████| 81/81 [00:18<00:00,  2.24it/s]\n"
     ]
    },
    {
     "name": "stdout",
     "output_type": "stream",
     "text": [
      "densenet201\n"
     ]
    },
    {
     "name": "stderr",
     "output_type": "stream",
     "text": [
      "100%|██████████| 80/80 [00:23<00:00,  1.23it/s]\n",
      "100%|██████████| 81/81 [00:22<00:00,  1.77it/s]\n"
     ]
    },
    {
     "name": "stdout",
     "output_type": "stream",
     "text": [
      "inceptionv3\n"
     ]
    },
    {
     "name": "stderr",
     "output_type": "stream",
     "text": [
      "100%|██████████| 80/80 [00:24<00:00,  1.19s/it]\n",
      "100%|██████████| 81/81 [00:22<00:00,  1.29it/s]\n"
     ]
    },
    {
     "name": "stdout",
     "output_type": "stream",
     "text": [
      "resnet101_v1\n"
     ]
    },
    {
     "name": "stderr",
     "output_type": "stream",
     "text": [
      "100%|██████████| 80/80 [00:20<00:00,  1.26it/s]\n",
      "100%|██████████| 81/81 [00:18<00:00,  2.08it/s]\n"
     ]
    },
    {
     "name": "stdout",
     "output_type": "stream",
     "text": [
      "resnet152_v1\n"
     ]
    },
    {
     "name": "stderr",
     "output_type": "stream",
     "text": [
      "100%|██████████| 80/80 [00:24<00:00,  3.51it/s]\n",
      "100%|██████████| 81/81 [00:23<00:00,  3.49it/s]\n",
      "  0%|          | 0/80 [00:00<?, ?it/s]"
     ]
    },
    {
     "name": "stdout",
     "output_type": "stream",
     "text": [
      "resnet18_v1\n"
     ]
    },
    {
     "name": "stderr",
     "output_type": "stream",
     "text": [
      "100%|██████████| 80/80 [00:13<00:00,  5.20it/s]\n",
      "100%|██████████| 81/81 [00:13<00:00,  5.83it/s]\n",
      "  0%|          | 0/80 [00:00<?, ?it/s]"
     ]
    },
    {
     "name": "stdout",
     "output_type": "stream",
     "text": [
      "resnet18_v2\n"
     ]
    },
    {
     "name": "stderr",
     "output_type": "stream",
     "text": [
      "100%|██████████| 80/80 [00:13<00:00,  5.92it/s]\n",
      "100%|██████████| 81/81 [00:13<00:00,  6.24it/s]\n"
     ]
    },
    {
     "name": "stdout",
     "output_type": "stream",
     "text": [
      "resnet34_v1\n"
     ]
    },
    {
     "name": "stderr",
     "output_type": "stream",
     "text": [
      "100%|██████████| 80/80 [00:17<00:00,  4.78it/s]\n",
      "100%|██████████| 81/81 [00:17<00:00,  4.70it/s]\n"
     ]
    },
    {
     "name": "stdout",
     "output_type": "stream",
     "text": [
      "resnet34_v2\n"
     ]
    },
    {
     "name": "stderr",
     "output_type": "stream",
     "text": [
      "100%|██████████| 80/80 [00:17<00:00,  4.82it/s]\n",
      "100%|██████████| 81/81 [00:17<00:00,  5.13it/s]\n"
     ]
    },
    {
     "name": "stdout",
     "output_type": "stream",
     "text": [
      "resnet50_v1\n"
     ]
    },
    {
     "name": "stderr",
     "output_type": "stream",
     "text": [
      "100%|██████████| 80/80 [00:13<00:00,  7.02it/s]\n",
      "100%|██████████| 81/81 [00:09<00:00,  9.72it/s]\n"
     ]
    },
    {
     "name": "stdout",
     "output_type": "stream",
     "text": [
      "resnet50_v2\n"
     ]
    },
    {
     "name": "stderr",
     "output_type": "stream",
     "text": [
      "100%|██████████| 80/80 [00:08<00:00,  3.19it/s]\n",
      "100%|██████████| 81/81 [00:08<00:00, 10.08it/s]\n",
      "  0%|          | 0/80 [00:00<?, ?it/s]"
     ]
    },
    {
     "name": "stdout",
     "output_type": "stream",
     "text": [
      "squeezenet1.0\n"
     ]
    },
    {
     "name": "stderr",
     "output_type": "stream",
     "text": [
      "100%|██████████| 80/80 [00:06<00:00, 12.82it/s]\n",
      "100%|██████████| 81/81 [00:05<00:00, 15.39it/s]\n",
      "  0%|          | 0/80 [00:00<?, ?it/s]"
     ]
    },
    {
     "name": "stdout",
     "output_type": "stream",
     "text": [
      "squeezenet1.1\n"
     ]
    },
    {
     "name": "stderr",
     "output_type": "stream",
     "text": [
      "100%|██████████| 80/80 [00:04<00:00, 17.16it/s]\n",
      "100%|██████████| 81/81 [00:04<00:00, 11.19it/s]\n"
     ]
    },
    {
     "name": "stdout",
     "output_type": "stream",
     "text": [
      "vgg11\n"
     ]
    },
    {
     "name": "stderr",
     "output_type": "stream",
     "text": [
      "100%|██████████| 80/80 [00:12<00:00,  1.07it/s]\n",
      "100%|██████████| 81/81 [00:09<00:00,  8.26it/s]\n"
     ]
    },
    {
     "name": "stdout",
     "output_type": "stream",
     "text": [
      "vgg11_bn\n"
     ]
    },
    {
     "name": "stderr",
     "output_type": "stream",
     "text": [
      "100%|██████████| 80/80 [00:16<00:00,  4.93it/s]\n",
      "100%|██████████| 81/81 [00:17<00:00,  4.67it/s]\n"
     ]
    },
    {
     "name": "stdout",
     "output_type": "stream",
     "text": [
      "vgg13\n"
     ]
    },
    {
     "name": "stderr",
     "output_type": "stream",
     "text": [
      "100%|██████████| 80/80 [00:12<00:00,  2.08it/s]\n",
      " 99%|█████████▉| 80/81 [00:10<00:00,  7.50it/s]"
     ]
    }
   ],
   "source": [
    "from mxnet.gluon.model_zoo.model_store import _model_sha1\n",
    "\n",
    "for model in sorted(_model_sha1.keys()):\n",
    "    print model\n",
    "    if model == 'inceptionv3':\n",
    "        save_features(model, data_iter_299, data_test_iter_299)\n",
    "    else:\n",
    "        save_features(model, data_iter_224, data_test_iter_224)"
   ]
  },
  {
   "cell_type": "code",
   "execution_count": 5,
   "metadata": {},
   "outputs": [
    {
     "name": "stdout",
     "output_type": "stream",
     "text": [
      "alexnet\n",
      "densenet121\n",
      "densenet161\n",
      "densenet169\n",
      "densenet201\n",
      "inceptionv3\n",
      "resnet101_v1\n",
      "resnet152_v1\n",
      "resnet18_v1\n",
      "resnet18_v2\n",
      "resnet34_v1\n",
      "resnet34_v2\n",
      "resnet50_v1\n",
      "resnet50_v2\n",
      "squeezenet1.0\n",
      "squeezenet1.1\n",
      "vgg11\n",
      "vgg11_bn\n",
      "vgg13\n"
     ]
    },
    {
     "name": "stderr",
     "output_type": "stream",
     "text": [
      "100%|██████████| 80/80 [00:14<00:00,  5.61it/s]\n",
      "100%|██████████| 81/81 [00:09<00:00,  2.29it/s]\n"
     ]
    },
    {
     "name": "stdout",
     "output_type": "stream",
     "text": [
      "vgg13_bn\n"
     ]
    },
    {
     "name": "stderr",
     "output_type": "stream",
     "text": [
      "100%|██████████| 80/80 [00:08<00:00, 10.38it/s]\n",
      "100%|██████████| 81/81 [00:07<00:00, 10.27it/s]\n"
     ]
    },
    {
     "name": "stdout",
     "output_type": "stream",
     "text": [
      "vgg16\n"
     ]
    },
    {
     "name": "stderr",
     "output_type": "stream",
     "text": [
      "100%|██████████| 80/80 [00:08<00:00,  9.65it/s]\n",
      "100%|██████████| 81/81 [00:08<00:00,  9.80it/s]\n"
     ]
    },
    {
     "name": "stdout",
     "output_type": "stream",
     "text": [
      "vgg16_bn\n"
     ]
    },
    {
     "name": "stderr",
     "output_type": "stream",
     "text": [
      "100%|██████████| 80/80 [00:09<00:00,  8.91it/s]\n",
      "100%|██████████| 81/81 [00:09<00:00,  9.04it/s]\n"
     ]
    },
    {
     "name": "stdout",
     "output_type": "stream",
     "text": [
      "vgg19\n"
     ]
    },
    {
     "name": "stderr",
     "output_type": "stream",
     "text": [
      "100%|██████████| 80/80 [00:09<00:00,  7.65it/s]\n",
      "100%|██████████| 81/81 [00:09<00:00,  7.63it/s]\n"
     ]
    },
    {
     "name": "stdout",
     "output_type": "stream",
     "text": [
      "vgg19_bn\n"
     ]
    },
    {
     "name": "stderr",
     "output_type": "stream",
     "text": [
      "100%|██████████| 80/80 [00:10<00:00,  7.16it/s]\n",
      "100%|██████████| 81/81 [00:10<00:00,  7.09it/s]\n"
     ]
    }
   ],
   "source": [
    "from mxnet.gluon.model_zoo.model_store import _model_sha1\n",
    "\n",
    "for model in sorted(_model_sha1.keys()):\n",
    "    print model\n",
    "    if model == 'inceptionv3':\n",
    "        save_features(model, data_iter_299, data_test_iter_299, ignore=True)\n",
    "    else:\n",
    "        save_features(model, data_iter_224, data_test_iter_224, ignore=True)"
   ]
  },
  {
   "cell_type": "code",
   "execution_count": null,
   "metadata": {
    "collapsed": true
   },
   "outputs": [],
   "source": []
  }
 ],
 "metadata": {
  "kernelspec": {
   "display_name": "Python 2",
   "language": "python",
   "name": "python2"
  },
  "language_info": {
   "codemirror_mode": {
    "name": "ipython",
    "version": 2
   },
   "file_extension": ".py",
   "mimetype": "text/x-python",
   "name": "python",
   "nbconvert_exporter": "python",
   "pygments_lexer": "ipython2",
   "version": "2.7.12"
  }
 },
 "nbformat": 4,
 "nbformat_minor": 2
}
